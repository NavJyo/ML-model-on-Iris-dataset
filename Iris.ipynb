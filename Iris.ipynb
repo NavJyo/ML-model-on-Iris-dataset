# ML-model-on-Iris-dataset
import pandas as pd
df=pd.read_csv('iris.csv')
df.head()
df['Species'].unique()
x=df.iloc[:,:-1]
y=df['Species']
from sklearn.tree import DecisionTreeClassifier 
from sklearn.model_selection import train_test_split
from sklearn.metrics import accuracy_score
X_train, X_test, y_train, y_test = train_test_split(x, y, test_size = 0.2, random_state = 100)

dtree=DecisionTreeClassifier(max_depth = 8, random_state = 101, max_features = None, min_samples_leaf = 13)
dtree.fit(X_train,y_train)
y_pred_test=dtree.predict(X_test)  
y_pred_tr=dtree.predict(X_train)

print('Test Accuracy :', accuracy_score(y_test,y_pred_test)*100) 
print('Train Accuracy :', accuracy_score(y_train, y_pred_tr)*100) 
